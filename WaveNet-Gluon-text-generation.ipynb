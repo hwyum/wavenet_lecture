{
 "cells": [
  {
   "cell_type": "code",
   "execution_count": 1,
   "metadata": {
    "ExecuteTime": {
     "end_time": "2018-07-13T02:14:45.992650Z",
     "start_time": "2018-07-13T02:14:42.680933Z"
    }
   },
   "outputs": [
    {
     "name": "stderr",
     "output_type": "stream",
     "text": [
      "/home/ubuntu/anaconda3/lib/python3.6/site-packages/h5py/__init__.py:36: FutureWarning: Conversion of the second argument of issubdtype from `float` to `np.floating` is deprecated. In future, it will be treated as `np.float64 == np.dtype(float).type`.\n",
      "  from ._conv import register_converters as _register_converters\n"
     ]
    }
   ],
   "source": [
    "from __future__ import unicode_literals, print_function, division\n",
    "from io import open\n",
    "import unicodedata\n",
    "import string\n",
    "import re\n",
    "import random\n",
    "import os, sys\n",
    "import numpy as np\n",
    "\n",
    "import mxnet as mx\n",
    "from mxnet import gluon, autograd, nd\n",
    "from mxnet.gluon import nn, utils\n",
    "import mxnet.ndarray as F\n",
    "\n",
    "from tqdm import tqdm"
   ]
  },
  {
   "cell_type": "code",
   "execution_count": 2,
   "metadata": {},
   "outputs": [],
   "source": [
    "SOS_token = 0\n",
    "EOS_token = 1\n",
    "\n",
    "class Lang(object):\n",
    "    def __init__(self):\n",
    "        self.char2index = {}\n",
    "        self.char2count = {}\n",
    "        self.index2char = {0: \"  \", 1:\".\"}\n",
    "        self.n_words = 2\n",
    "        \n",
    "    def addSentence(self, sentence):\n",
    "        for word in sentence:\n",
    "            self.addWord(word)\n",
    "            \n",
    "    def addWord(self, word):\n",
    "        for char in list(word):\n",
    "            if char not in self.char2index:\n",
    "                self.char2index[char] = self.n_words\n",
    "                self.char2count[char] = 1\n",
    "                self.index2char[self.n_words] = char\n",
    "                self.n_words += 1\n",
    "            else:\n",
    "                self.char2count[char] += 1"
   ]
  },
  {
   "cell_type": "code",
   "execution_count": 3,
   "metadata": {},
   "outputs": [],
   "source": [
    "def unicodeToAscii(s):\n",
    "    return ''.join(\n",
    "        c for c in unicodedata.normalize('NFD', s)\n",
    "        if unicodedata.category(c) != 'Mn'\n",
    "    )\n",
    "\n",
    "def normalizeString(s):\n",
    "    s = unicodeToAscii(s.lower().strip())\n",
    "    s = re.sub(r\"([\\n!?])\", r\" \", s)\n",
    "    #s = re.sub(r\"[^a-zA-Z.!?]+\", r\" \", s)\n",
    "    return s"
   ]
  },
  {
   "cell_type": "code",
   "execution_count": 4,
   "metadata": {},
   "outputs": [],
   "source": [
    "def readLangs(file_nm):\n",
    "    print(\"==Reading lines...==\")\n",
    "    ##read the txt files\n",
    "    #lines = open('data/%s.txt' % (file_nm), encoding='utf-8').read().strip().split('\\n')\n",
    "    lines = open('data/%s.txt' % (file_nm), encoding='utf-8').read().strip()\n",
    "    lines = lines.replace('Mr.','Mr')\n",
    "    lines = lines.replace('Mrs.','Mrs')\n",
    "    lines = lines.split('.')\n",
    "    \n",
    "    ##split eveline \n",
    "    pairs = [[normalizeString(s) for s in l.split('\\t')] for l in lines]\n",
    "    \n",
    "\n",
    "    input_lang = Lang()\n",
    "    \n",
    "    return input_lang, pairs"
   ]
  },
  {
   "cell_type": "code",
   "execution_count": 5,
   "metadata": {},
   "outputs": [],
   "source": [
    "MAX_LENGTH = 30\n",
    "\n",
    "def filterPair(p):\n",
    "    return len(p[0].split(' ')) < MAX_LENGTH \n",
    "\n",
    "\n",
    "def filterPairs(pairs):\n",
    "    return [pair for pair in pairs if filterPair(pair)]"
   ]
  },
  {
   "cell_type": "code",
   "execution_count": 6,
   "metadata": {},
   "outputs": [],
   "source": [
    "def prepareData(file_nm):\n",
    "    input_lang, pairs = readLangs(file_nm)\n",
    "    print(\"Read %s sentence pairs\" % len(pairs))\n",
    "    pairs = filterPairs(pairs)\n",
    "    print(\"Trimmed to %s sentence pairs\" % len(pairs))\n",
    "    print(\"Counting words...\")\n",
    "    for pair in pairs:\n",
    "        input_lang.addSentence(list(pair[0]))\n",
    "    print(\"Counted words:\")\n",
    "    print(input_lang.n_words)\n",
    "    \n",
    "    pairs_by_char = list()\n",
    "    \n",
    "    return input_lang, pairs"
   ]
  },
  {
   "cell_type": "code",
   "execution_count": 7,
   "metadata": {},
   "outputs": [
    {
     "name": "stdout",
     "output_type": "stream",
     "text": [
      "==Reading lines...==\n",
      "Read 5052 sentence pairs\n",
      "Trimmed to 3524 sentence pairs\n",
      "Counting words...\n",
      "Counted words:\n",
      "50\n"
     ]
    }
   ],
   "source": [
    "input_lang, pairs = prepareData('pride_and_prejudice')"
   ]
  },
  {
   "cell_type": "code",
   "execution_count": 34,
   "metadata": {},
   "outputs": [
    {
     "data": {
      "text/plain": [
       "{0: '  ',\n",
       " 1: '.',\n",
       " 2: 'c',\n",
       " 3: 'h',\n",
       " 4: 'a',\n",
       " 5: 'p',\n",
       " 6: 't',\n",
       " 7: 'e',\n",
       " 8: 'r',\n",
       " 9: ' ',\n",
       " 10: '1',\n",
       " 11: 'i',\n",
       " 12: 's',\n",
       " 13: 'u',\n",
       " 14: 'n',\n",
       " 15: 'v',\n",
       " 16: 'l',\n",
       " 17: 'y',\n",
       " 18: 'k',\n",
       " 19: 'o',\n",
       " 20: 'w',\n",
       " 21: 'd',\n",
       " 22: 'g',\n",
       " 23: ',',\n",
       " 24: 'm',\n",
       " 25: 'f',\n",
       " 26: 'b',\n",
       " 27: '“',\n",
       " 28: '”',\n",
       " 29: ';',\n",
       " 30: 'j',\n",
       " 31: '_',\n",
       " 32: 'x',\n",
       " 33: '-',\n",
       " 34: 'z',\n",
       " 35: '2',\n",
       " 36: ':',\n",
       " 37: \"'\",\n",
       " 38: 'q',\n",
       " 39: '5',\n",
       " 40: '6',\n",
       " 41: '8',\n",
       " 42: '0',\n",
       " 43: '7',\n",
       " 44: '9',\n",
       " 45: '4',\n",
       " 46: '3',\n",
       " 47: '(',\n",
       " 48: ')',\n",
       " 49: '*'}"
      ]
     },
     "execution_count": 34,
     "metadata": {},
     "output_type": "execute_result"
    }
   ],
   "source": [
    "input_lang.index2char"
   ]
  },
  {
   "cell_type": "code",
   "execution_count": 8,
   "metadata": {},
   "outputs": [
    {
     "data": {
      "text/plain": [
       "dict_keys([0, 1, 2, 3, 4, 5, 6, 7, 8, 9, 10, 11, 12, 13, 14, 15, 16, 17, 18, 19, 20, 21, 22, 23, 24, 25, 26, 27, 28, 29, 30, 31, 32, 33, 34, 35, 36, 37, 38, 39, 40, 41, 42, 43, 44, 45, 46, 47, 48, 49])"
      ]
     },
     "execution_count": 8,
     "metadata": {},
     "output_type": "execute_result"
    }
   ],
   "source": [
    "input_lang.index2char.keys()"
   ]
  },
  {
   "cell_type": "code",
   "execution_count": 9,
   "metadata": {},
   "outputs": [],
   "source": [
    "pairs_by_char = list()\n",
    "for sentence in pairs:\n",
    "    tmp = list()\n",
    "    tmp.append(\"SOS\")\n",
    "    tmp.extend(list(sentence[0]))\n",
    "    tmp.append(\".\")\n",
    "    pairs_by_char.extend(tmp)"
   ]
  },
  {
   "cell_type": "code",
   "execution_count": 10,
   "metadata": {},
   "outputs": [
    {
     "data": {
      "text/plain": [
       "['elizabeth noticed every sentence conveying the idea of uneasiness, with an attention which it had hardly received on the first perusal']"
      ]
     },
     "execution_count": 10,
     "metadata": {},
     "output_type": "execute_result"
    }
   ],
   "source": [
    "sentence = random.choice(pairs)\n",
    "sentence"
   ]
  },
  {
   "cell_type": "code",
   "execution_count": 11,
   "metadata": {},
   "outputs": [],
   "source": [
    "def indexesFromSentence(lang, sentence):\n",
    "    return [lang.char2index[word] for word in sentence]"
   ]
  },
  {
   "cell_type": "code",
   "execution_count": 12,
   "metadata": {},
   "outputs": [],
   "source": [
    "data = list()\n",
    "for sentence in pairs:\n",
    "    a = [0]\n",
    "    a.extend(indexesFromSentence(input_lang,list(sentence[0])))\n",
    "    a.append(1)\n",
    "    data.extend(a)"
   ]
  },
  {
   "cell_type": "code",
   "execution_count": 13,
   "metadata": {},
   "outputs": [
    {
     "data": {
      "text/plain": [
       "291603"
      ]
     },
     "execution_count": 13,
     "metadata": {},
     "output_type": "execute_result"
    }
   ],
   "source": [
    "len(data)"
   ]
  },
  {
   "cell_type": "markdown",
   "metadata": {},
   "source": [
    "## Define hyperparameters"
   ]
  },
  {
   "cell_type": "code",
   "execution_count": 14,
   "metadata": {
    "ExecuteTime": {
     "end_time": "2018-07-13T02:14:48.393913Z",
     "start_time": "2018-07-13T02:14:48.391444Z"
    }
   },
   "outputs": [],
   "source": [
    "ctx = mx.gpu()"
   ]
  },
  {
   "cell_type": "code",
   "execution_count": 15,
   "metadata": {},
   "outputs": [],
   "source": [
    "def data_generation(data,seq_size = 6000, mu=256,ctx=ctx):\n",
    "    div = max(data.max(),abs(data.min()))\n",
    "    #data = data/div\n",
    "    while True:\n",
    "        start = np.random.randint(0,data.shape[0]-seq_size)\n",
    "        ys = data[start:start+seq_size]\n",
    "        yield nd.array(ys[:seq_size],ctx=ctx)"
   ]
  },
  {
   "cell_type": "code",
   "execution_count": 16,
   "metadata": {
    "ExecuteTime": {
     "end_time": "2018-07-13T02:14:49.436024Z",
     "start_time": "2018-07-13T02:14:49.425852Z"
    }
   },
   "outputs": [],
   "source": [
    "class One_Hot(nn.Block):\n",
    "    def __init__(self, depth):\n",
    "        super(One_Hot,self).__init__()\n",
    "        self.depth = depth\n",
    "        \n",
    "    def forward(self, X_in):\n",
    "        with X_in.context:\n",
    "            X_in = X_in\n",
    "            self.ones = nd.one_hot(nd.arange(self.depth),self.depth)\n",
    "            return self.ones[X_in,:]\n",
    "\n",
    "    def __repr__(self):\n",
    "        return self.__class__.__name__ + \"({})\".format(self.depth)"
   ]
  },
  {
   "cell_type": "code",
   "execution_count": 17,
   "metadata": {
    "ExecuteTime": {
     "end_time": "2018-07-13T02:14:50.618054Z",
     "start_time": "2018-07-13T02:14:50.394616Z"
    }
   },
   "outputs": [],
   "source": [
    "class WaveNet(nn.Block):\n",
    "    def __init__(self, mu=256,n_residue=32, n_skip= 512, dilation_depth=10, n_repeat=5):\n",
    "        # mu: audio quantization size\n",
    "        # n_residue: residue channels\n",
    "        # n_skip: skip channels\n",
    "        # dilation_depth & n_repeat: dilation layer setup\n",
    "        super(WaveNet, self).__init__()\n",
    "        self.dilation_depth = dilation_depth\n",
    "        self.dilations = [2**i for i in range(dilation_depth)] * n_repeat      \n",
    "        with self.name_scope():\n",
    "            self.one_hot = One_Hot(mu)\n",
    "            self.from_input = nn.Conv1D(in_channels=mu, channels=n_residue, kernel_size=1)\n",
    "            self.conv_sigmoid = nn.Sequential()\n",
    "            self.conv_tanh = nn.Sequential()\n",
    "            self.skip_scale = nn.Sequential()\n",
    "            self.residue_scale = nn.Sequential()\n",
    "            for d in self.dilations:\n",
    "                self.conv_sigmoid.add(nn.Conv1D(in_channels=n_residue, channels=n_residue, kernel_size=2, dilation=d))\n",
    "                self.conv_tanh.add(nn.Conv1D(in_channels=n_residue, channels=n_residue, kernel_size=2, dilation=d))\n",
    "                self.skip_scale.add(nn.Conv1D(in_channels=n_residue, channels=n_skip, kernel_size=1, dilation=d))\n",
    "                self.residue_scale.add(nn.Conv1D(in_channels=n_residue, channels=n_residue, kernel_size=1, dilation=d))\n",
    "            self.conv_post_1 = nn.Conv1D(in_channels=n_skip, channels=n_skip, kernel_size=1)\n",
    "            self.conv_post_2 = nn.Conv1D(in_channels=n_skip, channels=mu, kernel_size=1)\n",
    "        \n",
    "    def forward(self,x):\n",
    "        with x.context:\n",
    "            output = self.preprocess(x)\n",
    "            skip_connections = [] # save for generation purposes\n",
    "            for s, t, skip_scale, residue_scale in zip(self.conv_sigmoid, self.conv_tanh, self.skip_scale, self.residue_scale):\n",
    "                output, skip = self.residue_forward(output, s, t, skip_scale, residue_scale)\n",
    "                skip_connections.append(skip)\n",
    "            # sum up skip connections\n",
    "            output = sum([s[:,:,-output.shape[2]:] for s in skip_connections])\n",
    "            output = self.postprocess(output)\n",
    "        return output\n",
    "        \n",
    "    def preprocess(self, x):\n",
    "        output = F.transpose(self.one_hot(x).expand_dims(0),axes=(0,2,1))\n",
    "        output = self.from_input(output)\n",
    "        return output\n",
    "\n",
    "    def postprocess(self, x):\n",
    "        output = F.relu(x)\n",
    "        output = self.conv_post_1(output)\n",
    "        output = F.relu(output)\n",
    "        output = self.conv_post_2(output)\n",
    "        output = nd.reshape(output,(output.shape[1],output.shape[2]))\n",
    "        output = F.transpose(output,axes=(1,0))\n",
    "        return output\n",
    "    \n",
    "    def residue_forward(self, x, conv_sigmoid, conv_tanh, skip_scale, residue_scale):\n",
    "        output = x\n",
    "        output_sigmoid, output_tanh = conv_sigmoid(output), conv_tanh(output)\n",
    "        output = F.sigmoid(output_sigmoid) * F.tanh(output_tanh)\n",
    "        skip = skip_scale(output)\n",
    "        output = residue_scale(output)\n",
    "        output = output + x[:,:,-output.shape[2]:]\n",
    "        return output, skip\n",
    "        "
   ]
  },
  {
   "cell_type": "markdown",
   "metadata": {},
   "source": [
    "## network training\n",
    "\n",
    "This network tries to generate the vibrating sine wave above. \n",
    "- The audio signal is quantized to 64 discrete integers.\n",
    "- 24 channels in residue outputs\n",
    "- 128 channels in skip outputs\n",
    "- 20 dilation layers (n_repeat=2, dilation_depth=10)"
   ]
  },
  {
   "cell_type": "code",
   "execution_count": 18,
   "metadata": {
    "ExecuteTime": {
     "end_time": "2018-07-13T02:17:27.659879Z",
     "start_time": "2018-07-13T02:17:27.577766Z"
    }
   },
   "outputs": [],
   "source": [
    "mu =len(input_lang.index2char.keys())\n",
    "net = WaveNet(mu=mu,n_residue=24,n_skip=128,dilation_depth=10,n_repeat=2)\n",
    "net.collect_params().initialize(ctx=ctx)\n",
    "#set optimizer\n",
    "trainer = gluon.Trainer(net.collect_params(),optimizer='adam',optimizer_params={'learning_rate':0.01 })\n",
    "g = data_generation(np.array(data),mu=46, seq_size=8000,ctx=ctx)\n",
    "batch_size = 64\n",
    "loss_fn = gluon.loss.SoftmaxCrossEntropyLoss()"
   ]
  },
  {
   "cell_type": "code",
   "execution_count": 19,
   "metadata": {
    "ExecuteTime": {
     "end_time": "2018-07-13T08:10:17.134335Z",
     "start_time": "2018-07-13T02:17:56.391431Z"
    }
   },
   "outputs": [
    {
     "name": "stderr",
     "output_type": "stream",
     "text": [
      "100%|██████████| 64/64 [00:02<00:00, 22.76it/s]\n",
      "/home/ubuntu/anaconda3/lib/python3.6/site-packages/mxnet/gluon/block.py:338: UserWarning: save_params is deprecated. Please use save_parameters. Note that if you want to load from SymbolBlock later, please use export instead. For details, see https://mxnet.incubator.apache.org/tutorials/gluon/save_load_params.html\n",
      "  warnings.warn(\"save_params is deprecated. Please use save_parameters. \"\n",
      "  3%|▎         | 2/64 [00:00<00:03, 18.91it/s]"
     ]
    },
    {
     "name": "stdout",
     "output_type": "stream",
     "text": [
      "epoch 0, loss 16627.537109375\n",
      "====save best model====\n"
     ]
    },
    {
     "name": "stderr",
     "output_type": "stream",
     "text": [
      "100%|██████████| 64/64 [00:03<00:00, 20.50it/s]\n",
      "  5%|▍         | 3/64 [00:00<00:02, 22.73it/s]"
     ]
    },
    {
     "name": "stdout",
     "output_type": "stream",
     "text": [
      "epoch 1, loss 12889.400390625\n",
      "====save best model====\n"
     ]
    },
    {
     "name": "stderr",
     "output_type": "stream",
     "text": [
      "100%|██████████| 64/64 [00:02<00:00, 23.26it/s]\n",
      "  5%|▍         | 3/64 [00:00<00:02, 22.76it/s]"
     ]
    },
    {
     "name": "stdout",
     "output_type": "stream",
     "text": [
      "epoch 2, loss 10994.3583984375\n",
      "====save best model====\n"
     ]
    },
    {
     "name": "stderr",
     "output_type": "stream",
     "text": [
      "100%|██████████| 64/64 [00:03<00:00, 21.22it/s]\n",
      "  3%|▎         | 2/64 [00:00<00:03, 19.05it/s]"
     ]
    },
    {
     "name": "stdout",
     "output_type": "stream",
     "text": [
      "epoch 3, loss 9709.263671875\n",
      "====save best model====\n"
     ]
    },
    {
     "name": "stderr",
     "output_type": "stream",
     "text": [
      "100%|██████████| 64/64 [00:03<00:00, 20.62it/s]\n",
      "  3%|▎         | 2/64 [00:00<00:03, 18.68it/s]"
     ]
    },
    {
     "name": "stdout",
     "output_type": "stream",
     "text": [
      "epoch 4, loss 8951.544921875\n",
      "====save best model====\n"
     ]
    },
    {
     "name": "stderr",
     "output_type": "stream",
     "text": [
      "100%|██████████| 64/64 [00:02<00:00, 22.10it/s]\n",
      "  3%|▎         | 2/64 [00:00<00:03, 18.81it/s]"
     ]
    },
    {
     "name": "stdout",
     "output_type": "stream",
     "text": [
      "epoch 5, loss 8384.20703125\n",
      "====save best model====\n"
     ]
    },
    {
     "name": "stderr",
     "output_type": "stream",
     "text": [
      "100%|██████████| 64/64 [00:03<00:00, 20.57it/s]\n",
      "  3%|▎         | 2/64 [00:00<00:03, 18.51it/s]"
     ]
    },
    {
     "name": "stdout",
     "output_type": "stream",
     "text": [
      "epoch 6, loss 8118.6435546875\n",
      "====save best model====\n"
     ]
    },
    {
     "name": "stderr",
     "output_type": "stream",
     "text": [
      "100%|██████████| 64/64 [00:03<00:00, 21.15it/s]\n",
      "  5%|▍         | 3/64 [00:00<00:02, 25.15it/s]"
     ]
    },
    {
     "name": "stdout",
     "output_type": "stream",
     "text": [
      "epoch 7, loss 7812.86669921875\n",
      "====save best model====\n"
     ]
    },
    {
     "name": "stderr",
     "output_type": "stream",
     "text": [
      "100%|██████████| 64/64 [00:03<00:00, 20.09it/s]\n",
      "  5%|▍         | 3/64 [00:00<00:02, 24.98it/s]"
     ]
    },
    {
     "name": "stdout",
     "output_type": "stream",
     "text": [
      "epoch 8, loss 7683.63037109375\n",
      "====save best model====\n"
     ]
    },
    {
     "name": "stderr",
     "output_type": "stream",
     "text": [
      "100%|██████████| 64/64 [00:02<00:00, 23.56it/s]\n",
      "  5%|▍         | 3/64 [00:00<00:02, 25.11it/s]"
     ]
    },
    {
     "name": "stdout",
     "output_type": "stream",
     "text": [
      "epoch 9, loss 7454.4697265625\n",
      "====save best model====\n"
     ]
    },
    {
     "name": "stderr",
     "output_type": "stream",
     "text": [
      "100%|██████████| 64/64 [00:02<00:00, 21.52it/s]\n",
      "  3%|▎         | 2/64 [00:00<00:03, 18.81it/s]"
     ]
    },
    {
     "name": "stdout",
     "output_type": "stream",
     "text": [
      "epoch 10, loss 7370.3359375\n",
      "====save best model====\n"
     ]
    },
    {
     "name": "stderr",
     "output_type": "stream",
     "text": [
      "100%|██████████| 64/64 [00:03<00:00, 21.25it/s]\n",
      "  5%|▍         | 3/64 [00:00<00:02, 25.42it/s]"
     ]
    },
    {
     "name": "stdout",
     "output_type": "stream",
     "text": [
      "epoch 11, loss 7255.8994140625\n",
      "====save best model====\n"
     ]
    },
    {
     "name": "stderr",
     "output_type": "stream",
     "text": [
      "100%|██████████| 64/64 [00:02<00:00, 21.92it/s]\n",
      "  3%|▎         | 2/64 [00:00<00:03, 16.53it/s]"
     ]
    },
    {
     "name": "stdout",
     "output_type": "stream",
     "text": [
      "epoch 12, loss 7091.353515625\n",
      "====save best model====\n"
     ]
    },
    {
     "name": "stderr",
     "output_type": "stream",
     "text": [
      "100%|██████████| 64/64 [00:03<00:00, 17.39it/s]\n",
      "100%|██████████| 64/64 [00:02<00:00, 21.47it/s]\n",
      "  3%|▎         | 2/64 [00:00<00:03, 18.66it/s]"
     ]
    },
    {
     "name": "stdout",
     "output_type": "stream",
     "text": [
      "epoch 14, loss 7084.59912109375\n",
      "====save best model====\n"
     ]
    },
    {
     "name": "stderr",
     "output_type": "stream",
     "text": [
      "100%|██████████| 64/64 [00:03<00:00, 20.38it/s]\n",
      "  5%|▍         | 3/64 [00:00<00:02, 24.40it/s]"
     ]
    },
    {
     "name": "stdout",
     "output_type": "stream",
     "text": [
      "epoch 15, loss 6891.2861328125\n",
      "====save best model====\n"
     ]
    },
    {
     "name": "stderr",
     "output_type": "stream",
     "text": [
      "100%|██████████| 64/64 [00:02<00:00, 21.61it/s]\n",
      "  5%|▍         | 3/64 [00:00<00:02, 24.82it/s]"
     ]
    },
    {
     "name": "stdout",
     "output_type": "stream",
     "text": [
      "epoch 16, loss 6882.048828125\n",
      "====save best model====\n"
     ]
    },
    {
     "name": "stderr",
     "output_type": "stream",
     "text": [
      "100%|██████████| 64/64 [00:03<00:00, 21.31it/s]\n",
      "100%|██████████| 64/64 [00:02<00:00, 21.75it/s]\n",
      "  5%|▍         | 3/64 [00:00<00:02, 24.04it/s]"
     ]
    },
    {
     "name": "stdout",
     "output_type": "stream",
     "text": [
      "epoch 18, loss 6775.12939453125\n",
      "====save best model====\n"
     ]
    },
    {
     "name": "stderr",
     "output_type": "stream",
     "text": [
      "100%|██████████| 64/64 [00:03<00:00, 21.33it/s]\n",
      "  5%|▍         | 3/64 [00:00<00:03, 19.01it/s]"
     ]
    },
    {
     "name": "stdout",
     "output_type": "stream",
     "text": [
      "epoch 19, loss 6652.673828125\n",
      "====save best model====\n"
     ]
    },
    {
     "name": "stderr",
     "output_type": "stream",
     "text": [
      "100%|██████████| 64/64 [00:03<00:00, 20.42it/s]\n",
      "100%|██████████| 64/64 [00:03<00:00, 21.00it/s]\n",
      "  5%|▍         | 3/64 [00:00<00:02, 24.91it/s]"
     ]
    },
    {
     "name": "stdout",
     "output_type": "stream",
     "text": [
      "epoch 21, loss 6566.8955078125\n",
      "====save best model====\n"
     ]
    },
    {
     "name": "stderr",
     "output_type": "stream",
     "text": [
      "100%|██████████| 64/64 [00:03<00:00, 20.80it/s]\n",
      "  5%|▍         | 3/64 [00:00<00:02, 25.50it/s]"
     ]
    },
    {
     "name": "stdout",
     "output_type": "stream",
     "text": [
      "epoch 22, loss 6559.25\n",
      "====save best model====\n"
     ]
    },
    {
     "name": "stderr",
     "output_type": "stream",
     "text": [
      "100%|██████████| 64/64 [00:02<00:00, 21.65it/s]\n",
      "  5%|▍         | 3/64 [00:00<00:02, 25.51it/s]"
     ]
    },
    {
     "name": "stdout",
     "output_type": "stream",
     "text": [
      "epoch 23, loss 6523.1650390625\n",
      "====save best model====\n"
     ]
    },
    {
     "name": "stderr",
     "output_type": "stream",
     "text": [
      "100%|██████████| 64/64 [00:02<00:00, 23.92it/s]\n",
      "100%|██████████| 64/64 [00:03<00:00, 20.25it/s]\n",
      "100%|██████████| 64/64 [00:03<00:00, 20.86it/s]\n",
      "  3%|▎         | 2/64 [00:00<00:03, 16.83it/s]"
     ]
    },
    {
     "name": "stdout",
     "output_type": "stream",
     "text": [
      "epoch 26, loss 6475.7744140625\n",
      "====save best model====\n"
     ]
    },
    {
     "name": "stderr",
     "output_type": "stream",
     "text": [
      "100%|██████████| 64/64 [00:03<00:00, 20.66it/s]\n",
      "  5%|▍         | 3/64 [00:00<00:02, 25.11it/s]"
     ]
    },
    {
     "name": "stdout",
     "output_type": "stream",
     "text": [
      "epoch 27, loss 6417.6025390625\n",
      "====save best model====\n"
     ]
    },
    {
     "name": "stderr",
     "output_type": "stream",
     "text": [
      "100%|██████████| 64/64 [00:02<00:00, 22.79it/s]\n",
      "  5%|▍         | 3/64 [00:00<00:02, 24.78it/s]"
     ]
    },
    {
     "name": "stdout",
     "output_type": "stream",
     "text": [
      "epoch 28, loss 6367.4384765625\n",
      "====save best model====\n"
     ]
    },
    {
     "name": "stderr",
     "output_type": "stream",
     "text": [
      "100%|██████████| 64/64 [00:02<00:00, 23.37it/s]\n",
      "  5%|▍         | 3/64 [00:00<00:02, 25.21it/s]"
     ]
    },
    {
     "name": "stdout",
     "output_type": "stream",
     "text": [
      "epoch 29, loss 6363.3427734375\n",
      "====save best model====\n"
     ]
    },
    {
     "name": "stderr",
     "output_type": "stream",
     "text": [
      "100%|██████████| 64/64 [00:02<00:00, 22.59it/s]\n",
      "100%|██████████| 64/64 [00:03<00:00, 20.83it/s]\n",
      "  5%|▍         | 3/64 [00:00<00:02, 25.32it/s]"
     ]
    },
    {
     "name": "stdout",
     "output_type": "stream",
     "text": [
      "epoch 31, loss 6341.9609375\n",
      "====save best model====\n"
     ]
    },
    {
     "name": "stderr",
     "output_type": "stream",
     "text": [
      "100%|██████████| 64/64 [00:02<00:00, 23.89it/s]\n",
      "  5%|▍         | 3/64 [00:00<00:02, 25.40it/s]"
     ]
    },
    {
     "name": "stdout",
     "output_type": "stream",
     "text": [
      "epoch 32, loss 6228.4443359375\n",
      "====save best model====\n"
     ]
    },
    {
     "name": "stderr",
     "output_type": "stream",
     "text": [
      "100%|██████████| 64/64 [00:03<00:00, 21.31it/s]\n",
      "100%|██████████| 64/64 [00:02<00:00, 23.54it/s]\n",
      "100%|██████████| 64/64 [00:03<00:00, 20.48it/s]\n",
      "100%|██████████| 64/64 [00:03<00:00, 20.58it/s]\n",
      "100%|██████████| 64/64 [00:02<00:00, 21.42it/s]\n",
      "100%|██████████| 64/64 [00:03<00:00, 20.13it/s]\n",
      "  3%|▎         | 2/64 [00:00<00:03, 18.48it/s]"
     ]
    },
    {
     "name": "stdout",
     "output_type": "stream",
     "text": [
      "epoch 38, loss 6205.787109375\n",
      "====save best model====\n"
     ]
    },
    {
     "name": "stderr",
     "output_type": "stream",
     "text": [
      "100%|██████████| 64/64 [00:03<00:00, 20.69it/s]\n",
      "  3%|▎         | 2/64 [00:00<00:03, 18.84it/s]"
     ]
    },
    {
     "name": "stdout",
     "output_type": "stream",
     "text": [
      "epoch 39, loss 6120.8671875\n",
      "====save best model====\n"
     ]
    },
    {
     "name": "stderr",
     "output_type": "stream",
     "text": [
      "100%|██████████| 64/64 [00:03<00:00, 21.24it/s]\n",
      "100%|██████████| 64/64 [00:03<00:00, 21.12it/s]\n",
      "  3%|▎         | 2/64 [00:00<00:03, 19.11it/s]"
     ]
    },
    {
     "name": "stdout",
     "output_type": "stream",
     "text": [
      "epoch 41, loss 6015.0478515625\n",
      "====save best model====\n"
     ]
    },
    {
     "name": "stderr",
     "output_type": "stream",
     "text": [
      "100%|██████████| 64/64 [00:03<00:00, 20.10it/s]\n",
      "100%|██████████| 64/64 [00:02<00:00, 23.26it/s]\n",
      "100%|██████████| 64/64 [00:03<00:00, 20.32it/s]\n",
      "100%|██████████| 64/64 [00:03<00:00, 20.77it/s]\n",
      "100%|██████████| 64/64 [00:03<00:00, 20.97it/s]\n",
      "100%|██████████| 64/64 [00:03<00:00, 20.37it/s]\n",
      "100%|██████████| 64/64 [00:02<00:00, 22.35it/s]\n",
      "  5%|▍         | 3/64 [00:00<00:02, 25.28it/s]"
     ]
    },
    {
     "name": "stdout",
     "output_type": "stream",
     "text": [
      "epoch 48, loss 5943.9697265625\n",
      "====save best model====\n"
     ]
    },
    {
     "name": "stderr",
     "output_type": "stream",
     "text": [
      "100%|██████████| 64/64 [00:02<00:00, 21.71it/s]\n",
      "100%|██████████| 64/64 [00:03<00:00, 21.04it/s]\n",
      "  5%|▍         | 3/64 [00:00<00:02, 25.53it/s]"
     ]
    },
    {
     "name": "stdout",
     "output_type": "stream",
     "text": [
      "epoch 50, loss 5885.3544921875\n",
      "====save best model====\n"
     ]
    },
    {
     "name": "stderr",
     "output_type": "stream",
     "text": [
      "100%|██████████| 64/64 [00:03<00:00, 20.62it/s]\n",
      "100%|██████████| 64/64 [00:02<00:00, 22.74it/s]\n",
      "100%|██████████| 64/64 [00:03<00:00, 20.42it/s]\n",
      "  3%|▎         | 2/64 [00:00<00:03, 19.26it/s]"
     ]
    },
    {
     "name": "stdout",
     "output_type": "stream",
     "text": [
      "epoch 53, loss 5815.5166015625\n",
      "====save best model====\n"
     ]
    },
    {
     "name": "stderr",
     "output_type": "stream",
     "text": [
      "100%|██████████| 64/64 [00:02<00:00, 22.49it/s]\n",
      "100%|██████████| 64/64 [00:03<00:00, 21.02it/s]\n",
      "100%|██████████| 64/64 [00:02<00:00, 21.44it/s]\n",
      "100%|██████████| 64/64 [00:03<00:00, 17.95it/s]\n",
      "100%|██████████| 64/64 [00:02<00:00, 22.30it/s]\n",
      "100%|██████████| 64/64 [00:02<00:00, 22.67it/s]\n",
      "100%|██████████| 64/64 [00:02<00:00, 21.70it/s]\n",
      "100%|██████████| 64/64 [00:02<00:00, 22.39it/s]\n",
      "100%|██████████| 64/64 [00:02<00:00, 22.17it/s]\n",
      "  5%|▍         | 3/64 [00:00<00:02, 24.78it/s]"
     ]
    },
    {
     "name": "stdout",
     "output_type": "stream",
     "text": [
      "epoch 62, loss 5775.6240234375\n",
      "====save best model====\n"
     ]
    },
    {
     "name": "stderr",
     "output_type": "stream",
     "text": [
      "100%|██████████| 64/64 [00:02<00:00, 22.50it/s]\n",
      "100%|██████████| 64/64 [00:02<00:00, 22.67it/s]\n",
      "100%|██████████| 64/64 [00:02<00:00, 23.21it/s]\n",
      "100%|██████████| 64/64 [00:02<00:00, 21.68it/s]\n",
      "100%|██████████| 64/64 [00:02<00:00, 22.07it/s]\n",
      "  5%|▍         | 3/64 [00:00<00:02, 24.99it/s]"
     ]
    },
    {
     "name": "stdout",
     "output_type": "stream",
     "text": [
      "epoch 67, loss 5755.419921875\n",
      "====save best model====\n"
     ]
    },
    {
     "name": "stderr",
     "output_type": "stream",
     "text": [
      "100%|██████████| 64/64 [00:02<00:00, 21.78it/s]\n",
      "100%|██████████| 64/64 [00:02<00:00, 22.03it/s]\n",
      "100%|██████████| 64/64 [00:02<00:00, 21.59it/s]\n",
      "100%|██████████| 64/64 [00:03<00:00, 21.26it/s]\n",
      "  5%|▍         | 3/64 [00:00<00:02, 25.84it/s]"
     ]
    },
    {
     "name": "stdout",
     "output_type": "stream",
     "text": [
      "epoch 71, loss 5657.56201171875\n",
      "====save best model====\n"
     ]
    },
    {
     "name": "stderr",
     "output_type": "stream",
     "text": [
      "100%|██████████| 64/64 [00:03<00:00, 20.79it/s]\n",
      "100%|██████████| 64/64 [00:02<00:00, 22.00it/s]\n",
      "100%|██████████| 64/64 [00:03<00:00, 20.77it/s]\n",
      "100%|██████████| 64/64 [00:02<00:00, 22.02it/s]\n",
      "100%|██████████| 64/64 [00:03<00:00, 20.34it/s]\n",
      "100%|██████████| 64/64 [00:02<00:00, 23.06it/s]\n",
      "100%|██████████| 64/64 [00:02<00:00, 23.77it/s]\n",
      "100%|██████████| 64/64 [00:02<00:00, 23.81it/s]\n",
      "100%|██████████| 64/64 [00:02<00:00, 21.58it/s]\n",
      "100%|██████████| 64/64 [00:02<00:00, 22.72it/s]\n",
      "100%|██████████| 64/64 [00:02<00:00, 22.14it/s]\n",
      "100%|██████████| 64/64 [00:02<00:00, 22.59it/s]\n",
      "100%|██████████| 64/64 [00:02<00:00, 21.46it/s]\n",
      "  5%|▍         | 3/64 [00:00<00:03, 19.96it/s]"
     ]
    },
    {
     "name": "stdout",
     "output_type": "stream",
     "text": [
      "epoch 84, loss 5633.201171875\n",
      "====save best model====\n"
     ]
    },
    {
     "name": "stderr",
     "output_type": "stream",
     "text": [
      "100%|██████████| 64/64 [00:02<00:00, 21.72it/s]\n",
      "100%|██████████| 64/64 [00:02<00:00, 22.13it/s]\n",
      "100%|██████████| 64/64 [00:02<00:00, 22.00it/s]\n",
      "100%|██████████| 64/64 [00:02<00:00, 22.85it/s]\n",
      "100%|██████████| 64/64 [00:02<00:00, 23.15it/s]\n",
      "  5%|▍         | 3/64 [00:00<00:02, 25.93it/s]"
     ]
    },
    {
     "name": "stdout",
     "output_type": "stream",
     "text": [
      "epoch 89, loss 5629.2060546875\n",
      "====save best model====\n"
     ]
    },
    {
     "name": "stderr",
     "output_type": "stream",
     "text": [
      "100%|██████████| 64/64 [00:02<00:00, 23.72it/s]\n",
      "  5%|▍         | 3/64 [00:00<00:02, 25.85it/s]"
     ]
    },
    {
     "name": "stdout",
     "output_type": "stream",
     "text": [
      "epoch 90, loss 5577.755859375\n",
      "====save best model====\n"
     ]
    },
    {
     "name": "stderr",
     "output_type": "stream",
     "text": [
      "100%|██████████| 64/64 [00:02<00:00, 24.61it/s]\n",
      "100%|██████████| 64/64 [00:02<00:00, 22.40it/s]\n",
      "100%|██████████| 64/64 [00:02<00:00, 23.06it/s]\n",
      "  5%|▍         | 3/64 [00:00<00:02, 23.52it/s]"
     ]
    },
    {
     "name": "stdout",
     "output_type": "stream",
     "text": [
      "epoch 93, loss 5553.68505859375\n",
      "====save best model====\n"
     ]
    },
    {
     "name": "stderr",
     "output_type": "stream",
     "text": [
      "100%|██████████| 64/64 [00:02<00:00, 21.90it/s]\n",
      "100%|██████████| 64/64 [00:03<00:00, 21.29it/s]\n",
      "100%|██████████| 64/64 [00:02<00:00, 22.05it/s]\n",
      "100%|██████████| 64/64 [00:02<00:00, 21.74it/s]\n",
      "100%|██████████| 64/64 [00:02<00:00, 22.29it/s]\n",
      "100%|██████████| 64/64 [00:02<00:00, 21.79it/s]\n",
      "100%|██████████| 64/64 [00:02<00:00, 22.07it/s]\n",
      "100%|██████████| 64/64 [00:03<00:00, 21.20it/s]\n",
      "  3%|▎         | 2/64 [00:00<00:03, 19.13it/s]"
     ]
    },
    {
     "name": "stdout",
     "output_type": "stream",
     "text": [
      "epoch 101, loss 5449.234375\n",
      "====save best model====\n"
     ]
    },
    {
     "name": "stderr",
     "output_type": "stream",
     "text": [
      "100%|██████████| 64/64 [00:03<00:00, 18.04it/s]\n",
      "100%|██████████| 64/64 [00:02<00:00, 22.34it/s]\n",
      "100%|██████████| 64/64 [00:02<00:00, 23.17it/s]\n",
      "100%|██████████| 64/64 [00:03<00:00, 21.13it/s]\n",
      "100%|██████████| 64/64 [00:03<00:00, 20.74it/s]\n",
      "100%|██████████| 64/64 [00:02<00:00, 22.45it/s]\n",
      "100%|██████████| 64/64 [00:02<00:00, 23.03it/s]\n",
      "100%|██████████| 64/64 [00:02<00:00, 21.81it/s]\n",
      "100%|██████████| 64/64 [00:02<00:00, 22.69it/s]\n",
      "100%|██████████| 64/64 [00:02<00:00, 21.77it/s]\n",
      "100%|██████████| 64/64 [00:02<00:00, 22.10it/s]\n",
      "100%|██████████| 64/64 [00:02<00:00, 21.79it/s]\n",
      "100%|██████████| 64/64 [00:02<00:00, 21.60it/s]\n",
      "100%|██████████| 64/64 [00:02<00:00, 22.06it/s]\n",
      "100%|██████████| 64/64 [00:03<00:00, 21.32it/s]\n",
      "100%|██████████| 64/64 [00:02<00:00, 22.99it/s]\n",
      "100%|██████████| 64/64 [00:02<00:00, 22.82it/s]\n",
      "100%|██████████| 64/64 [00:02<00:00, 22.22it/s]\n",
      "100%|██████████| 64/64 [00:02<00:00, 22.77it/s]\n",
      "100%|██████████| 64/64 [00:03<00:00, 20.77it/s]\n",
      "100%|██████████| 64/64 [00:02<00:00, 21.86it/s]\n",
      "100%|██████████| 64/64 [00:02<00:00, 23.42it/s]\n",
      "100%|██████████| 64/64 [00:02<00:00, 22.09it/s]\n",
      "100%|██████████| 64/64 [00:02<00:00, 22.10it/s]\n",
      "100%|██████████| 64/64 [00:02<00:00, 22.64it/s]\n",
      "100%|██████████| 64/64 [00:02<00:00, 23.27it/s]\n",
      "100%|██████████| 64/64 [00:02<00:00, 21.36it/s]\n",
      "100%|██████████| 64/64 [00:02<00:00, 22.21it/s]\n",
      "100%|██████████| 64/64 [00:02<00:00, 21.54it/s]\n",
      "100%|██████████| 64/64 [00:03<00:00, 21.28it/s]\n",
      "100%|██████████| 64/64 [00:02<00:00, 21.67it/s]\n",
      "100%|██████████| 64/64 [00:02<00:00, 21.69it/s]\n",
      "100%|██████████| 64/64 [00:02<00:00, 22.56it/s]\n",
      "100%|██████████| 64/64 [00:02<00:00, 21.35it/s]\n",
      "  5%|▍         | 3/64 [00:00<00:02, 25.49it/s]"
     ]
    },
    {
     "name": "stdout",
     "output_type": "stream",
     "text": [
      "epoch 135, loss 5431.78955078125\n",
      "====save best model====\n"
     ]
    },
    {
     "name": "stderr",
     "output_type": "stream",
     "text": [
      "100%|██████████| 64/64 [00:02<00:00, 23.79it/s]\n",
      "100%|██████████| 64/64 [00:02<00:00, 23.53it/s]\n",
      "100%|██████████| 64/64 [00:02<00:00, 21.45it/s]\n",
      "100%|██████████| 64/64 [00:02<00:00, 21.79it/s]\n",
      "  3%|▎         | 2/64 [00:00<00:03, 19.83it/s]"
     ]
    },
    {
     "name": "stdout",
     "output_type": "stream",
     "text": [
      "epoch 139, loss 5415.6943359375\n",
      "====save best model====\n"
     ]
    },
    {
     "name": "stderr",
     "output_type": "stream",
     "text": [
      "100%|██████████| 64/64 [00:02<00:00, 23.42it/s]\n",
      "100%|██████████| 64/64 [00:02<00:00, 23.49it/s]\n",
      "100%|██████████| 64/64 [00:02<00:00, 23.22it/s]\n",
      "100%|██████████| 64/64 [00:02<00:00, 23.10it/s]\n",
      "100%|██████████| 64/64 [00:03<00:00, 20.95it/s]\n",
      "100%|██████████| 64/64 [00:02<00:00, 22.65it/s]\n",
      "100%|██████████| 64/64 [00:02<00:00, 22.83it/s]\n",
      "100%|██████████| 64/64 [00:03<00:00, 19.90it/s]\n",
      "100%|██████████| 64/64 [00:02<00:00, 24.20it/s]\n",
      "100%|██████████| 64/64 [00:02<00:00, 21.93it/s]\n",
      "100%|██████████| 64/64 [00:02<00:00, 22.34it/s]\n",
      "100%|██████████| 64/64 [00:02<00:00, 22.79it/s]\n",
      "100%|██████████| 64/64 [00:02<00:00, 23.50it/s]\n",
      "  5%|▍         | 3/64 [00:00<00:02, 23.29it/s]"
     ]
    },
    {
     "name": "stdout",
     "output_type": "stream",
     "text": [
      "epoch 152, loss 5396.6640625\n",
      "====save best model====\n"
     ]
    },
    {
     "name": "stderr",
     "output_type": "stream",
     "text": [
      "100%|██████████| 64/64 [00:02<00:00, 23.70it/s]\n",
      "100%|██████████| 64/64 [00:02<00:00, 21.97it/s]\n",
      "100%|██████████| 64/64 [00:02<00:00, 24.54it/s]\n",
      "100%|██████████| 64/64 [00:02<00:00, 21.40it/s]\n",
      "100%|██████████| 64/64 [00:02<00:00, 22.09it/s]\n",
      "100%|██████████| 64/64 [00:02<00:00, 22.43it/s]\n",
      "100%|██████████| 64/64 [00:02<00:00, 22.82it/s]\n",
      "100%|██████████| 64/64 [00:02<00:00, 23.36it/s]\n",
      "100%|██████████| 64/64 [00:02<00:00, 21.39it/s]\n",
      "100%|██████████| 64/64 [00:02<00:00, 21.67it/s]\n",
      "100%|██████████| 64/64 [00:02<00:00, 22.66it/s]\n",
      "  5%|▍         | 3/64 [00:00<00:02, 25.53it/s]"
     ]
    },
    {
     "name": "stdout",
     "output_type": "stream",
     "text": [
      "epoch 163, loss 5362.822265625\n",
      "====save best model====\n"
     ]
    },
    {
     "name": "stderr",
     "output_type": "stream",
     "text": [
      "100%|██████████| 64/64 [00:02<00:00, 21.98it/s]\n",
      "100%|██████████| 64/64 [00:02<00:00, 22.62it/s]\n",
      "100%|██████████| 64/64 [00:02<00:00, 22.27it/s]\n",
      "100%|██████████| 64/64 [00:02<00:00, 21.82it/s]\n",
      "100%|██████████| 64/64 [00:02<00:00, 22.60it/s]\n",
      "100%|██████████| 64/64 [00:02<00:00, 22.82it/s]\n",
      "100%|██████████| 64/64 [00:03<00:00, 21.11it/s]\n",
      "100%|██████████| 64/64 [00:02<00:00, 22.10it/s]\n",
      "  5%|▍         | 3/64 [00:00<00:02, 25.08it/s]"
     ]
    },
    {
     "name": "stdout",
     "output_type": "stream",
     "text": [
      "epoch 171, loss 5301.751953125\n",
      "====save best model====\n"
     ]
    },
    {
     "name": "stderr",
     "output_type": "stream",
     "text": [
      "100%|██████████| 64/64 [00:02<00:00, 22.96it/s]\n",
      "100%|██████████| 64/64 [00:02<00:00, 22.15it/s]\n",
      "100%|██████████| 64/64 [00:03<00:00, 20.64it/s]\n",
      "100%|██████████| 64/64 [00:02<00:00, 22.16it/s]\n",
      "100%|██████████| 64/64 [00:02<00:00, 22.68it/s]\n",
      "100%|██████████| 64/64 [00:02<00:00, 22.84it/s]\n",
      "100%|██████████| 64/64 [00:02<00:00, 22.01it/s]\n",
      "100%|██████████| 64/64 [00:03<00:00, 21.23it/s]\n",
      "100%|██████████| 64/64 [00:02<00:00, 22.57it/s]\n",
      "100%|██████████| 64/64 [00:02<00:00, 22.92it/s]\n",
      "100%|██████████| 64/64 [00:03<00:00, 21.29it/s]\n",
      "100%|██████████| 64/64 [00:02<00:00, 23.72it/s]\n",
      "100%|██████████| 64/64 [00:02<00:00, 22.14it/s]\n",
      "100%|██████████| 64/64 [00:02<00:00, 21.80it/s]\n",
      "100%|██████████| 64/64 [00:02<00:00, 22.35it/s]\n",
      "100%|██████████| 64/64 [00:02<00:00, 21.76it/s]\n",
      "100%|██████████| 64/64 [00:02<00:00, 21.35it/s]\n",
      "100%|██████████| 64/64 [00:02<00:00, 22.21it/s]\n",
      "100%|██████████| 64/64 [00:03<00:00, 20.80it/s]\n",
      "100%|██████████| 64/64 [00:03<00:00, 21.18it/s]\n",
      "100%|██████████| 64/64 [00:02<00:00, 22.01it/s]\n",
      "100%|██████████| 64/64 [00:02<00:00, 22.33it/s]\n",
      "100%|██████████| 64/64 [00:02<00:00, 21.72it/s]\n",
      "100%|██████████| 64/64 [00:03<00:00, 21.13it/s]\n",
      "100%|██████████| 64/64 [00:02<00:00, 21.66it/s]\n",
      "100%|██████████| 64/64 [00:02<00:00, 22.56it/s]\n",
      "100%|██████████| 64/64 [00:02<00:00, 22.27it/s]\n",
      "100%|██████████| 64/64 [00:02<00:00, 22.63it/s]\n",
      "100%|██████████| 64/64 [00:02<00:00, 22.99it/s]\n",
      "  5%|▍         | 3/64 [00:00<00:02, 25.58it/s]"
     ]
    },
    {
     "name": "stdout",
     "output_type": "stream",
     "text": [
      "epoch 200, loss 5266.51904296875\n",
      "====save best model====\n"
     ]
    },
    {
     "name": "stderr",
     "output_type": "stream",
     "text": [
      "100%|██████████| 64/64 [00:02<00:00, 23.31it/s]\n",
      "100%|██████████| 64/64 [00:02<00:00, 22.40it/s]\n",
      "100%|██████████| 64/64 [00:03<00:00, 20.96it/s]\n",
      "100%|██████████| 64/64 [00:02<00:00, 21.62it/s]\n",
      "100%|██████████| 64/64 [00:02<00:00, 22.83it/s]\n",
      "  5%|▍         | 3/64 [00:00<00:03, 20.13it/s]"
     ]
    },
    {
     "name": "stdout",
     "output_type": "stream",
     "text": [
      "epoch 205, loss 5232.380859375\n",
      "====save best model====\n"
     ]
    },
    {
     "name": "stderr",
     "output_type": "stream",
     "text": [
      "100%|██████████| 64/64 [00:02<00:00, 23.06it/s]\n",
      "100%|██████████| 64/64 [00:02<00:00, 22.76it/s]\n",
      "100%|██████████| 64/64 [00:02<00:00, 23.71it/s]\n",
      "100%|██████████| 64/64 [00:02<00:00, 21.67it/s]\n",
      "100%|██████████| 64/64 [00:02<00:00, 23.45it/s]\n",
      "100%|██████████| 64/64 [00:02<00:00, 24.93it/s]\n",
      "100%|██████████| 64/64 [00:02<00:00, 21.44it/s]\n",
      "100%|██████████| 64/64 [00:02<00:00, 23.88it/s]\n",
      "100%|██████████| 64/64 [00:02<00:00, 23.05it/s]\n",
      "100%|██████████| 64/64 [00:03<00:00, 20.60it/s]\n",
      "100%|██████████| 64/64 [00:02<00:00, 21.99it/s]\n",
      "100%|██████████| 64/64 [00:02<00:00, 22.43it/s]\n",
      "100%|██████████| 64/64 [00:02<00:00, 25.09it/s]\n",
      "100%|██████████| 64/64 [00:02<00:00, 22.63it/s]\n",
      "100%|██████████| 64/64 [00:03<00:00, 20.94it/s]\n",
      "100%|██████████| 64/64 [00:02<00:00, 22.13it/s]\n",
      "100%|██████████| 64/64 [00:03<00:00, 21.12it/s]\n",
      "100%|██████████| 64/64 [00:02<00:00, 22.67it/s]\n",
      "100%|██████████| 64/64 [00:02<00:00, 24.41it/s]\n",
      "100%|██████████| 64/64 [00:02<00:00, 23.66it/s]\n",
      "100%|██████████| 64/64 [00:02<00:00, 23.49it/s]\n",
      "100%|██████████| 64/64 [00:03<00:00, 21.21it/s]\n",
      "100%|██████████| 64/64 [00:02<00:00, 23.58it/s]\n",
      "100%|██████████| 64/64 [00:02<00:00, 22.32it/s]\n",
      "100%|██████████| 64/64 [00:02<00:00, 23.23it/s]\n",
      "100%|██████████| 64/64 [00:02<00:00, 21.38it/s]\n",
      "100%|██████████| 64/64 [00:02<00:00, 22.49it/s]\n",
      "100%|██████████| 64/64 [00:02<00:00, 22.61it/s]\n",
      "100%|██████████| 64/64 [00:02<00:00, 23.92it/s]\n",
      "100%|██████████| 64/64 [00:02<00:00, 22.82it/s]\n",
      "100%|██████████| 64/64 [00:02<00:00, 22.54it/s]\n",
      "100%|██████████| 64/64 [00:03<00:00, 20.68it/s]\n",
      "100%|██████████| 64/64 [00:02<00:00, 21.49it/s]\n",
      "100%|██████████| 64/64 [00:02<00:00, 22.91it/s]\n",
      "100%|██████████| 64/64 [00:02<00:00, 22.26it/s]\n",
      "100%|██████████| 64/64 [00:03<00:00, 20.62it/s]\n",
      "100%|██████████| 64/64 [00:02<00:00, 24.97it/s]\n",
      "100%|██████████| 64/64 [00:02<00:00, 22.88it/s]\n",
      "100%|██████████| 64/64 [00:02<00:00, 22.86it/s]\n",
      "100%|██████████| 64/64 [00:02<00:00, 21.76it/s]\n",
      "100%|██████████| 64/64 [00:02<00:00, 22.73it/s]\n",
      "100%|██████████| 64/64 [00:02<00:00, 22.93it/s]\n",
      "100%|██████████| 64/64 [00:03<00:00, 20.84it/s]\n",
      "100%|██████████| 64/64 [00:02<00:00, 21.64it/s]\n",
      "100%|██████████| 64/64 [00:02<00:00, 22.50it/s]\n",
      "100%|██████████| 64/64 [00:02<00:00, 22.32it/s]\n",
      "100%|██████████| 64/64 [00:03<00:00, 20.73it/s]\n",
      "100%|██████████| 64/64 [00:02<00:00, 21.56it/s]\n",
      "100%|██████████| 64/64 [00:02<00:00, 21.56it/s]\n",
      "100%|██████████| 64/64 [00:02<00:00, 22.40it/s]\n",
      "100%|██████████| 64/64 [00:02<00:00, 21.87it/s]\n",
      "100%|██████████| 64/64 [00:02<00:00, 23.75it/s]\n",
      "100%|██████████| 64/64 [00:02<00:00, 22.04it/s]\n",
      "100%|██████████| 64/64 [00:02<00:00, 21.95it/s]\n",
      "100%|██████████| 64/64 [00:03<00:00, 21.28it/s]\n",
      "100%|██████████| 64/64 [00:03<00:00, 21.12it/s]\n",
      "100%|██████████| 64/64 [00:03<00:00, 20.05it/s]\n",
      "100%|██████████| 64/64 [00:03<00:00, 21.15it/s]\n",
      "100%|██████████| 64/64 [00:02<00:00, 23.48it/s]\n",
      "100%|██████████| 64/64 [00:02<00:00, 24.30it/s]\n",
      "100%|██████████| 64/64 [00:02<00:00, 21.59it/s]\n",
      "100%|██████████| 64/64 [00:02<00:00, 21.75it/s]\n",
      "100%|██████████| 64/64 [00:02<00:00, 23.77it/s]\n",
      "100%|██████████| 64/64 [00:03<00:00, 21.23it/s]\n",
      "100%|██████████| 64/64 [00:02<00:00, 23.47it/s]\n",
      "100%|██████████| 64/64 [00:02<00:00, 21.83it/s]\n",
      "100%|██████████| 64/64 [00:02<00:00, 24.25it/s]\n",
      "100%|██████████| 64/64 [00:02<00:00, 21.69it/s]\n",
      "100%|██████████| 64/64 [00:02<00:00, 23.04it/s]\n",
      "100%|██████████| 64/64 [00:02<00:00, 21.69it/s]\n",
      "100%|██████████| 64/64 [00:02<00:00, 21.86it/s]\n",
      "100%|██████████| 64/64 [00:02<00:00, 21.89it/s]\n",
      "100%|██████████| 64/64 [00:02<00:00, 22.66it/s]\n",
      "100%|██████████| 64/64 [00:02<00:00, 21.61it/s]\n",
      "  5%|▍         | 3/64 [00:00<00:02, 25.85it/s]"
     ]
    },
    {
     "name": "stdout",
     "output_type": "stream",
     "text": [
      "epoch 279, loss 5224.14013671875\n",
      "====save best model====\n"
     ]
    },
    {
     "name": "stderr",
     "output_type": "stream",
     "text": [
      "100%|██████████| 64/64 [00:02<00:00, 22.78it/s]\n",
      "100%|██████████| 64/64 [00:02<00:00, 22.74it/s]\n",
      "100%|██████████| 64/64 [00:03<00:00, 19.87it/s]\n",
      "100%|██████████| 64/64 [00:02<00:00, 23.63it/s]\n",
      "100%|██████████| 64/64 [00:02<00:00, 22.42it/s]\n",
      "100%|██████████| 64/64 [00:02<00:00, 22.02it/s]\n",
      "100%|██████████| 64/64 [00:03<00:00, 20.43it/s]\n",
      "100%|██████████| 64/64 [00:02<00:00, 21.55it/s]\n",
      "100%|██████████| 64/64 [00:02<00:00, 21.98it/s]\n",
      "100%|██████████| 64/64 [00:03<00:00, 20.69it/s]\n",
      "100%|██████████| 64/64 [00:02<00:00, 23.47it/s]\n",
      "100%|██████████| 64/64 [00:02<00:00, 23.63it/s]\n",
      "100%|██████████| 64/64 [00:02<00:00, 22.76it/s]\n",
      "100%|██████████| 64/64 [00:02<00:00, 23.11it/s]\n",
      "100%|██████████| 64/64 [00:02<00:00, 24.16it/s]\n",
      "100%|██████████| 64/64 [00:02<00:00, 22.99it/s]\n",
      "100%|██████████| 64/64 [00:02<00:00, 21.55it/s]\n",
      "100%|██████████| 64/64 [00:02<00:00, 23.98it/s]\n",
      "100%|██████████| 64/64 [00:02<00:00, 22.58it/s]\n",
      "100%|██████████| 64/64 [00:02<00:00, 22.22it/s]\n",
      "100%|██████████| 64/64 [00:02<00:00, 21.49it/s]\n",
      "100%|██████████| 64/64 [00:02<00:00, 22.59it/s]\n",
      "100%|██████████| 64/64 [00:02<00:00, 22.36it/s]\n",
      "100%|██████████| 64/64 [00:02<00:00, 21.40it/s]\n",
      "100%|██████████| 64/64 [00:02<00:00, 23.15it/s]\n",
      "100%|██████████| 64/64 [00:02<00:00, 21.85it/s]\n",
      "100%|██████████| 64/64 [00:02<00:00, 22.65it/s]\n",
      "100%|██████████| 64/64 [00:02<00:00, 23.22it/s]\n",
      "100%|██████████| 64/64 [00:02<00:00, 22.43it/s]\n",
      "100%|██████████| 64/64 [00:03<00:00, 21.21it/s]\n",
      "100%|██████████| 64/64 [00:02<00:00, 21.74it/s]\n",
      "100%|██████████| 64/64 [00:02<00:00, 21.60it/s]\n",
      "100%|██████████| 64/64 [00:02<00:00, 22.74it/s]\n",
      "100%|██████████| 64/64 [00:02<00:00, 22.81it/s]\n",
      "100%|██████████| 64/64 [00:02<00:00, 21.59it/s]\n",
      "100%|██████████| 64/64 [00:03<00:00, 20.98it/s]\n",
      "100%|██████████| 64/64 [00:02<00:00, 23.37it/s]\n",
      "100%|██████████| 64/64 [00:02<00:00, 22.48it/s]\n",
      "100%|██████████| 64/64 [00:03<00:00, 20.73it/s]\n",
      "100%|██████████| 64/64 [00:02<00:00, 23.14it/s]\n",
      "100%|██████████| 64/64 [00:02<00:00, 21.47it/s]\n",
      "100%|██████████| 64/64 [00:02<00:00, 21.38it/s]\n",
      "100%|██████████| 64/64 [00:02<00:00, 23.59it/s]\n",
      "100%|██████████| 64/64 [00:02<00:00, 23.35it/s]\n",
      "100%|██████████| 64/64 [00:02<00:00, 21.56it/s]\n",
      "100%|██████████| 64/64 [00:02<00:00, 23.25it/s]\n",
      "100%|██████████| 64/64 [00:02<00:00, 21.54it/s]\n",
      "100%|██████████| 64/64 [00:02<00:00, 22.13it/s]\n",
      "100%|██████████| 64/64 [00:02<00:00, 23.43it/s]\n",
      "100%|██████████| 64/64 [00:02<00:00, 23.13it/s]\n",
      "100%|██████████| 64/64 [00:02<00:00, 23.97it/s]\n",
      "100%|██████████| 64/64 [00:02<00:00, 21.79it/s]\n",
      "100%|██████████| 64/64 [00:02<00:00, 23.08it/s]\n",
      "100%|██████████| 64/64 [00:02<00:00, 22.10it/s]\n",
      "100%|██████████| 64/64 [00:02<00:00, 21.97it/s]\n",
      "100%|██████████| 64/64 [00:02<00:00, 23.10it/s]\n",
      "100%|██████████| 64/64 [00:02<00:00, 22.25it/s]\n",
      "100%|██████████| 64/64 [00:03<00:00, 21.09it/s]\n",
      "100%|██████████| 64/64 [00:02<00:00, 23.18it/s]\n",
      "100%|██████████| 64/64 [00:02<00:00, 22.62it/s]\n",
      "100%|██████████| 64/64 [00:02<00:00, 22.12it/s]\n",
      "100%|██████████| 64/64 [00:02<00:00, 21.84it/s]\n",
      "100%|██████████| 64/64 [00:02<00:00, 22.27it/s]\n",
      "100%|██████████| 64/64 [00:02<00:00, 22.69it/s]\n",
      "100%|██████████| 64/64 [00:03<00:00, 21.31it/s]\n",
      "100%|██████████| 64/64 [00:03<00:00, 20.43it/s]\n",
      "100%|██████████| 64/64 [00:02<00:00, 21.98it/s]\n",
      "100%|██████████| 64/64 [00:02<00:00, 23.20it/s]\n",
      "100%|██████████| 64/64 [00:02<00:00, 22.62it/s]\n",
      "100%|██████████| 64/64 [00:02<00:00, 22.47it/s]\n",
      "100%|██████████| 64/64 [00:02<00:00, 23.23it/s]\n",
      "100%|██████████| 64/64 [00:03<00:00, 21.31it/s]\n",
      "100%|██████████| 64/64 [00:02<00:00, 23.60it/s]\n",
      "100%|██████████| 64/64 [00:02<00:00, 23.36it/s]\n",
      "100%|██████████| 64/64 [00:02<00:00, 22.69it/s]\n",
      "100%|██████████| 64/64 [00:02<00:00, 24.28it/s]\n",
      "100%|██████████| 64/64 [00:03<00:00, 20.46it/s]\n",
      "100%|██████████| 64/64 [00:02<00:00, 22.67it/s]\n",
      "100%|██████████| 64/64 [00:02<00:00, 21.74it/s]\n",
      "100%|██████████| 64/64 [00:02<00:00, 22.92it/s]\n",
      "100%|██████████| 64/64 [00:03<00:00, 21.09it/s]\n",
      "100%|██████████| 64/64 [00:02<00:00, 22.72it/s]\n",
      "100%|██████████| 64/64 [00:02<00:00, 21.67it/s]\n",
      "100%|██████████| 64/64 [00:03<00:00, 20.76it/s]\n",
      "100%|██████████| 64/64 [00:02<00:00, 21.71it/s]\n",
      "100%|██████████| 64/64 [00:02<00:00, 22.35it/s]\n",
      "100%|██████████| 64/64 [00:02<00:00, 21.55it/s]\n",
      "100%|██████████| 64/64 [00:03<00:00, 21.22it/s]\n",
      "100%|██████████| 64/64 [00:02<00:00, 21.62it/s]\n",
      "100%|██████████| 64/64 [00:02<00:00, 22.89it/s]\n",
      "100%|██████████| 64/64 [00:02<00:00, 22.91it/s]\n",
      "100%|██████████| 64/64 [00:03<00:00, 19.77it/s]\n",
      "100%|██████████| 64/64 [00:03<00:00, 20.57it/s]\n",
      "100%|██████████| 64/64 [00:02<00:00, 21.76it/s]\n",
      "100%|██████████| 64/64 [00:02<00:00, 22.58it/s]\n",
      "100%|██████████| 64/64 [00:02<00:00, 23.45it/s]\n",
      "100%|██████████| 64/64 [00:02<00:00, 22.51it/s]\n",
      "100%|██████████| 64/64 [00:02<00:00, 21.84it/s]\n",
      "100%|██████████| 64/64 [00:02<00:00, 23.46it/s]\n",
      "100%|██████████| 64/64 [00:02<00:00, 23.56it/s]\n",
      "100%|██████████| 64/64 [00:02<00:00, 21.67it/s]\n",
      "100%|██████████| 64/64 [00:02<00:00, 22.65it/s]\n",
      "100%|██████████| 64/64 [00:02<00:00, 22.76it/s]\n",
      "100%|██████████| 64/64 [00:02<00:00, 23.31it/s]\n",
      "100%|██████████| 64/64 [00:02<00:00, 23.86it/s]\n",
      "100%|██████████| 64/64 [00:02<00:00, 22.96it/s]\n",
      "100%|██████████| 64/64 [00:02<00:00, 22.59it/s]\n",
      "100%|██████████| 64/64 [00:02<00:00, 23.39it/s]\n",
      "100%|██████████| 64/64 [00:02<00:00, 22.10it/s]\n",
      "100%|██████████| 64/64 [00:02<00:00, 23.12it/s]\n",
      "100%|██████████| 64/64 [00:02<00:00, 22.98it/s]\n",
      "100%|██████████| 64/64 [00:02<00:00, 23.18it/s]\n",
      "100%|██████████| 64/64 [00:02<00:00, 22.64it/s]\n",
      "100%|██████████| 64/64 [00:02<00:00, 23.17it/s]\n",
      "100%|██████████| 64/64 [00:02<00:00, 21.59it/s]\n",
      "100%|██████████| 64/64 [00:03<00:00, 20.80it/s]\n",
      "100%|██████████| 64/64 [00:02<00:00, 22.71it/s]\n",
      "100%|██████████| 64/64 [00:02<00:00, 21.95it/s]\n",
      "100%|██████████| 64/64 [00:02<00:00, 23.48it/s]\n",
      "100%|██████████| 64/64 [00:02<00:00, 21.75it/s]\n",
      "100%|██████████| 64/64 [00:03<00:00, 20.59it/s]\n",
      "100%|██████████| 64/64 [00:02<00:00, 21.67it/s]\n",
      "100%|██████████| 64/64 [00:02<00:00, 21.73it/s]\n",
      "100%|██████████| 64/64 [00:02<00:00, 23.39it/s]\n",
      "100%|██████████| 64/64 [00:03<00:00, 20.64it/s]\n",
      "100%|██████████| 64/64 [00:02<00:00, 21.67it/s]\n",
      "100%|██████████| 64/64 [00:02<00:00, 24.74it/s]\n",
      "100%|██████████| 64/64 [00:02<00:00, 23.80it/s]\n",
      "100%|██████████| 64/64 [00:02<00:00, 23.43it/s]\n",
      "100%|██████████| 64/64 [00:02<00:00, 22.82it/s]\n",
      "100%|██████████| 64/64 [00:03<00:00, 20.89it/s]\n",
      "100%|██████████| 64/64 [00:02<00:00, 23.97it/s]\n",
      "100%|██████████| 64/64 [00:03<00:00, 21.16it/s]\n",
      "100%|██████████| 64/64 [00:03<00:00, 21.15it/s]\n",
      "100%|██████████| 64/64 [00:02<00:00, 22.66it/s]\n",
      "100%|██████████| 64/64 [00:02<00:00, 21.83it/s]\n",
      "100%|██████████| 64/64 [00:03<00:00, 21.17it/s]\n",
      "100%|██████████| 64/64 [00:02<00:00, 21.68it/s]\n",
      "100%|██████████| 64/64 [00:02<00:00, 22.59it/s]\n",
      "100%|██████████| 64/64 [00:02<00:00, 21.96it/s]\n",
      "100%|██████████| 64/64 [00:03<00:00, 21.22it/s]\n",
      "100%|██████████| 64/64 [00:02<00:00, 23.35it/s]\n",
      "100%|██████████| 64/64 [00:02<00:00, 22.42it/s]\n",
      "100%|██████████| 64/64 [00:02<00:00, 22.77it/s]\n",
      "100%|██████████| 64/64 [00:03<00:00, 20.99it/s]\n",
      "100%|██████████| 64/64 [00:02<00:00, 21.84it/s]\n",
      "100%|██████████| 64/64 [00:02<00:00, 22.99it/s]\n",
      "100%|██████████| 64/64 [00:02<00:00, 23.56it/s]\n",
      "100%|██████████| 64/64 [00:03<00:00, 20.81it/s]\n",
      "100%|██████████| 64/64 [00:02<00:00, 22.52it/s]\n",
      "100%|██████████| 64/64 [00:02<00:00, 23.73it/s]\n",
      "100%|██████████| 64/64 [00:02<00:00, 23.62it/s]\n",
      "100%|██████████| 64/64 [00:02<00:00, 23.67it/s]\n",
      "100%|██████████| 64/64 [00:02<00:00, 21.47it/s]\n",
      "100%|██████████| 64/64 [00:02<00:00, 22.46it/s]\n",
      "100%|██████████| 64/64 [00:02<00:00, 23.85it/s]\n",
      "100%|██████████| 64/64 [00:02<00:00, 22.37it/s]\n",
      "100%|██████████| 64/64 [00:02<00:00, 22.56it/s]\n",
      "100%|██████████| 64/64 [00:02<00:00, 22.20it/s]\n",
      "100%|██████████| 64/64 [00:02<00:00, 24.43it/s]\n",
      "100%|██████████| 64/64 [00:02<00:00, 21.66it/s]\n",
      "100%|██████████| 64/64 [00:02<00:00, 21.92it/s]\n",
      "100%|██████████| 64/64 [00:02<00:00, 22.24it/s]\n",
      "100%|██████████| 64/64 [00:02<00:00, 21.67it/s]\n",
      "100%|██████████| 64/64 [00:02<00:00, 22.64it/s]\n",
      "100%|██████████| 64/64 [00:02<00:00, 24.16it/s]\n",
      "100%|██████████| 64/64 [00:02<00:00, 22.37it/s]\n",
      "100%|██████████| 64/64 [00:02<00:00, 21.35it/s]\n",
      "100%|██████████| 64/64 [00:02<00:00, 22.20it/s]\n",
      "100%|██████████| 64/64 [00:02<00:00, 22.50it/s]\n"
     ]
    },
    {
     "name": "stderr",
     "output_type": "stream",
     "text": [
      "100%|██████████| 64/64 [00:02<00:00, 23.36it/s]\n",
      "100%|██████████| 64/64 [00:02<00:00, 23.98it/s]\n",
      "100%|██████████| 64/64 [00:02<00:00, 22.42it/s]\n",
      "100%|██████████| 64/64 [00:02<00:00, 22.28it/s]\n",
      "100%|██████████| 64/64 [00:02<00:00, 22.46it/s]\n",
      "100%|██████████| 64/64 [00:02<00:00, 22.93it/s]\n",
      "100%|██████████| 64/64 [00:02<00:00, 21.56it/s]\n",
      "100%|██████████| 64/64 [00:02<00:00, 23.52it/s]\n",
      "100%|██████████| 64/64 [00:02<00:00, 21.65it/s]\n",
      "100%|██████████| 64/64 [00:02<00:00, 21.43it/s]\n",
      "100%|██████████| 64/64 [00:02<00:00, 22.40it/s]\n",
      "100%|██████████| 64/64 [00:03<00:00, 20.72it/s]\n",
      "100%|██████████| 64/64 [00:02<00:00, 22.73it/s]\n",
      "100%|██████████| 64/64 [00:02<00:00, 22.53it/s]\n",
      "100%|██████████| 64/64 [00:03<00:00, 21.09it/s]\n",
      "100%|██████████| 64/64 [00:02<00:00, 24.89it/s]\n",
      "100%|██████████| 64/64 [00:02<00:00, 22.36it/s]\n",
      "100%|██████████| 64/64 [00:02<00:00, 22.85it/s]\n",
      "100%|██████████| 64/64 [00:02<00:00, 22.49it/s]\n",
      "100%|██████████| 64/64 [00:02<00:00, 22.05it/s]\n",
      "100%|██████████| 64/64 [00:02<00:00, 22.59it/s]\n",
      "100%|██████████| 64/64 [00:02<00:00, 23.89it/s]\n",
      "100%|██████████| 64/64 [00:03<00:00, 21.10it/s]\n",
      "100%|██████████| 64/64 [00:02<00:00, 22.65it/s]\n",
      "100%|██████████| 64/64 [00:02<00:00, 23.62it/s]\n",
      "100%|██████████| 64/64 [00:02<00:00, 23.62it/s]\n",
      "100%|██████████| 64/64 [00:03<00:00, 21.27it/s]\n",
      "100%|██████████| 64/64 [00:02<00:00, 22.72it/s]\n",
      "100%|██████████| 64/64 [00:02<00:00, 23.75it/s]\n",
      "100%|██████████| 64/64 [00:02<00:00, 23.78it/s]\n",
      "100%|██████████| 64/64 [00:02<00:00, 22.10it/s]\n",
      "100%|██████████| 64/64 [00:03<00:00, 20.84it/s]\n",
      "100%|██████████| 64/64 [00:03<00:00, 20.40it/s]\n",
      "100%|██████████| 64/64 [00:03<00:00, 21.19it/s]\n",
      "100%|██████████| 64/64 [00:02<00:00, 21.51it/s]\n",
      "100%|██████████| 64/64 [00:02<00:00, 21.78it/s]\n",
      "100%|██████████| 64/64 [00:02<00:00, 21.96it/s]\n",
      "100%|██████████| 64/64 [00:02<00:00, 23.68it/s]\n",
      "100%|██████████| 64/64 [00:03<00:00, 21.15it/s]\n",
      "100%|██████████| 64/64 [00:02<00:00, 21.91it/s]\n",
      "100%|██████████| 64/64 [00:02<00:00, 23.03it/s]\n",
      "100%|██████████| 64/64 [00:02<00:00, 22.88it/s]\n",
      "100%|██████████| 64/64 [00:02<00:00, 21.70it/s]\n",
      "100%|██████████| 64/64 [00:02<00:00, 22.30it/s]\n",
      "100%|██████████| 64/64 [00:02<00:00, 21.62it/s]\n",
      "100%|██████████| 64/64 [00:03<00:00, 21.33it/s]\n",
      "100%|██████████| 64/64 [00:02<00:00, 24.10it/s]\n",
      "100%|██████████| 64/64 [00:02<00:00, 21.63it/s]\n",
      "100%|██████████| 64/64 [00:02<00:00, 21.81it/s]\n",
      "100%|██████████| 64/64 [00:02<00:00, 22.01it/s]\n"
     ]
    }
   ],
   "source": [
    "loss_save = []\n",
    "max_epoch = 500\n",
    "best_loss = sys.maxsize\n",
    "for epoch in range(max_epoch):\n",
    "    loss = 0.0\n",
    "    for _ in tqdm(range(batch_size)):\n",
    "        batch = next(g)\n",
    "        x = batch[:-1]\n",
    "        with autograd.record():\n",
    "            logits = net(x)\n",
    "            sz = logits.shape[0]\n",
    "            loss = loss + loss_fn(logits, batch[-sz:])\n",
    "            #loss = loss/batch_size\n",
    "        loss.backward()\n",
    "        trainer.step(1,ignore_stale_grad=True)\n",
    "    loss_save.append(nd.sum(loss).asscalar()/batch_size)\n",
    "    #print('epoch {}, loss {}'.format(epoch, nd.sum(loss).asscalar()/batch_size))\n",
    "    #save the best model\n",
    "    current_loss = nd.sum(loss).asscalar()/batch_size\n",
    "    if best_loss > current_loss:\n",
    "        print('epoch {}, loss {}'.format(epoch, nd.sum(loss).asscalar()/batch_size))\n",
    "        print(\"====save best model====\")\n",
    "        filename = './models/best_perf_models'\n",
    "        net.save_parameters(filename)\n",
    "        best_loss = current_loss\n",
    "    \n"
   ]
  },
  {
   "cell_type": "code",
   "execution_count": 36,
   "metadata": {
    "ExecuteTime": {
     "end_time": "2018-07-13T00:09:14.517053Z",
     "start_time": "2018-07-13T00:09:14.513438Z"
    }
   },
   "outputs": [],
   "source": [
    "##save loss func\n",
    "np.savez('loss_save.npz',np.array(loss_save))"
   ]
  },
  {
   "cell_type": "code",
   "execution_count": 21,
   "metadata": {
    "ExecuteTime": {
     "end_time": "2018-07-13T00:42:54.206558Z",
     "start_time": "2018-07-13T00:42:54.203023Z"
    }
   },
   "outputs": [
    {
     "data": {
      "text/plain": [
       "'/home/skinet/work/research/WaveNet'"
      ]
     },
     "execution_count": 21,
     "metadata": {},
     "output_type": "execute_result"
    }
   ],
   "source": [
    "os.getcwd()"
   ]
  },
  {
   "cell_type": "code",
   "execution_count": 21,
   "metadata": {
    "ExecuteTime": {
     "end_time": "2018-07-13T00:43:00.448995Z",
     "start_time": "2018-07-13T00:43:00.434017Z"
    }
   },
   "outputs": [
    {
     "name": "stderr",
     "output_type": "stream",
     "text": [
      "/home/ubuntu/anaconda3/lib/python3.6/site-packages/mxnet/gluon/block.py:413: UserWarning: load_params is deprecated. Please use load_parameters.\n",
      "  warnings.warn(\"load_params is deprecated. Please use load_parameters.\")\n"
     ]
    }
   ],
   "source": [
    "##load best network\n",
    "net.load_params('./models/best_perf_models')"
   ]
  },
  {
   "cell_type": "code",
   "execution_count": 40,
   "metadata": {},
   "outputs": [],
   "source": [
    "g_gen = data_generation(np.array(data),mu=46, seq_size=10000,ctx=ctx)"
   ]
  },
  {
   "cell_type": "code",
   "execution_count": 42,
   "metadata": {},
   "outputs": [],
   "source": [
    "seed = next(g_gen)"
   ]
  },
  {
   "cell_type": "code",
   "execution_count": 43,
   "metadata": {
    "ExecuteTime": {
     "end_time": "2018-07-13T00:43:07.741100Z",
     "start_time": "2018-07-13T00:43:07.733883Z"
    }
   },
   "outputs": [],
   "source": [
    "def generate_slow(x,models,dilation_depth,n_repeat,ctx, n=100):\n",
    "    dilations = [2**i for i in range(dilation_depth)] * n_repeat \n",
    "    res = list(x.asnumpy())\n",
    "    for _ in tqdm(range(n)):\n",
    "        x = nd.array(res[-sum(dilations)-1:],ctx=ctx)\n",
    "        y = models(x)\n",
    "        res.append(y.argmax(1).asnumpy()[-1])\n",
    "    return res"
   ]
  },
  {
   "cell_type": "code",
   "execution_count": 45,
   "metadata": {},
   "outputs": [
    {
     "name": "stderr",
     "output_type": "stream",
     "text": [
      "100%|██████████| 5000/5000 [01:19<00:00, 63.29it/s]\n"
     ]
    }
   ],
   "source": [
    "gen_text= generate_slow(seed,net,dilation_depth=10,n_repeat=2,ctx=mx.gpu(),n=5000)"
   ]
  },
  {
   "cell_type": "code",
   "execution_count": 46,
   "metadata": {},
   "outputs": [],
   "source": [
    "gen_sentence = ''\n",
    "for idx in gen_text[9900:]:\n",
    "    gen_sentence +=input_lang.index2char[idx]"
   ]
  },
  {
   "cell_type": "code",
   "execution_count": 47,
   "metadata": {},
   "outputs": [
    {
     "data": {
      "text/plain": [
       "\"o others as in his reproaches to myself.  after this period every appearance of acquaintance was dropped afraiding his silly had was alday with him asking--and should be this is no loveloof, and not to talk what is a very connocte was to be so i do not see her her friend.  he had better to be so elizabeth had been at not to her at a more that i had heard house thought the will be an endual to the saw her heart, and then to be so well.  ”  this indefully.  ”  “i shall not to ste't thought had all her afraid of some to smility, there is a conduct of he has been at liked a great probably and a letter of shall be in to be imagined to her thanking the former of her had been the same not very store well, and of a short the whole poor half as little a shall not her sister any horrive to stay--i so few hhar_ a visits.  it is convinced that course to her.  ”  “that is a readily, however, i should be of it would be so welcome was rain.  strue.  i am her defleaty.  her invalians.  ”  “but if i am not was not a silently at love her heared in town the in a good nothing to be in hertfordshire.  ”  “i have help stairs in to short the sister's often to be possibly a very performent anoused bowes to be there would be an any idea of the same that is a very colonel forst of her sister to elizabeth had darcy, “that i suppose you do not be always to wish for_table to be and asking of the comvesting.  it was so of court of her sister's are all the to have been a study the most alarm at the comparisory.  ”  “nor i all that i should be a very coactoon of her from here a serious of her father, and they wedds, i know had then should think it.  i shall been all the country such a struck a vary complished him.  i am good a word.  ”  “i am not was reased to be winding a small before the whole parted a letter was a waiting the point, and that study is were to the advantaged to think i am last about it.  ”  “it was not know that her aunt's proscituat to be of surprised to the approbaty to see her absence.  ”  “i am the most well.  ”  “i am sure to her husband was much him a mondo the studyible, and that he had the took which i shall be all his own friends.  i can dissation.   was will be all to see it the need to her her soon afforded her heaven at all.  ”  the were alooked a lady, she was as to see that make her sister to break hardly partners that he could not have been a word.  it is an to be so much brother who had been see it was so delight.  ”  “i won't disqrainton, and that should not half a could be obing to be suppose that sort of any resting by her as she declared was dow who had.  ”  “it was not have her appearance of his sister.  there is a most her should she to be this as to behaviour to be it way to hope you have been were a socretely, there was not surprised the first send a swell to be so one there was no lady come into her brother to make him askern, i am sure indeful so by it was not attention.  it is better.  ”  “i do not that i have not easy to be so honsolution.  ”  “i shall not officers.  ”  “i shall not to see it was not a look of her horrive an and at the most warmveration of the said of has words bound in the said she could not be in a forme.  ”  “i am stranger with him.  ”  “i do not do not so othing.  ”  “you have alk of have a walk of the marked it is a right whether was very could hardly keep to have been so make to be some of her sister.  it was not know any of that lady comfortable to be so introduced his wishes was as well.  ”  “oh, i should be that is some and the cousin's from any of comfort to her sister's all he was better her know what so staying to see that he said, her sister.  ”  “i am no opened it is in her families, i dare say, she for some of his better seemed to be deeper.  the terms who had happing to her “i will said us what was to have been at so of him.  ”  “i do not know i am is course, has night, that he could not enjoy her more gozk little to be much better to her as the silence.  i do not have the asking of to be so young lady catherine's behaviour of him was very were arrival which i can have been at well.  ”  “it is very for her friends.  ”  “i should be see the strident as they will not have some with him.  ”  “tell to be in the party in hertfordshire.  ”  “indeed, “thoubles”  to speak to began of her father, and that she was not undon'fferently, and the producted to her friends.  ”  elizabeth was my own at not once, and i to began to be there is all three_ was should had indif from they were at the truth his sister is a staring him.  ”  “i shall in the countring at not the looked at pray arger so servantly her seems of some of the termined her husband which so, i tere.  ”  “it is a very corfections to himself to her at least in the country.  my dear soon after the truth.  ”  “are was an any others off that her a most differently.  ”  “it is a very conference worth to his sister's a stranger is all this was a stranger of the talking the carriage.  ”  “but i shall between the other at slighted of the from her one was not so write how while then she had been had of anying--and sho----i should not to her husband in the other any con\""
      ]
     },
     "execution_count": 47,
     "metadata": {},
     "output_type": "execute_result"
    }
   ],
   "source": [
    "gen_sentence"
   ]
  },
  {
   "cell_type": "code",
   "execution_count": 37,
   "metadata": {},
   "outputs": [],
   "source": [
    "a = np.array(loss_save)"
   ]
  },
  {
   "cell_type": "code",
   "execution_count": 39,
   "metadata": {
    "ExecuteTime": {
     "end_time": "2018-07-16T07:42:48.741073Z",
     "start_time": "2018-07-16T07:42:48.540633Z"
    }
   },
   "outputs": [
    {
     "data": {
      "image/png": "[encoded data removed]",
      "text/plain": [
       "<Figure size 1080x576 with 1 Axes>"
      ]
     },
     "metadata": {},
     "output_type": "display_data"
    }
   ],
   "source": [
    "import matplotlib.pyplot as plt\n",
    "%matplotlib inline\n",
    "plt.rcParams.update({'font.size': 12})\n",
    "plt.style.use('seaborn-darkgrid')\n",
    "palette = plt.get_cmap('Set1')\n",
    "plt.figure(figsize=(15,8))\n",
    "plt.xlabel(\"Epoch\")\n",
    "plt.ylabel(\"loss\")\n",
    "plt.plot(np.arange(500)+1,  a,label=\"loss\")\n",
    "plt.show()"
   ]
  },
  {
   "cell_type": "code",
   "execution_count": null,
   "metadata": {},
   "outputs": [],
   "source": []
  }
 ],
 "metadata": {
  "kernelspec": {
   "display_name": "Python 3",
   "language": "python",
   "name": "python3"
  },
  "language_info": {
   "codemirror_mode": {
    "name": "ipython",
    "version": 3
   },
   "file_extension": ".py",
   "mimetype": "text/x-python",
   "name": "python",
   "nbconvert_exporter": "python",
   "pygments_lexer": "ipython3",
   "version": "3.6.4"
  }
 },
 "nbformat": 4,
 "nbformat_minor": 2
}
